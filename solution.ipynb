{
 "cells": [
  {
   "cell_type": "markdown",
   "id": "69c97173-727f-45f7-a0e0-cc33eb616a2a",
   "metadata": {},
   "source": [
    "# Theoretical questions"
   ]
  },
  {
   "cell_type": "markdown",
   "id": "e7929533-cdeb-4977-adc6-b02546bf7be2",
   "metadata": {},
   "source": [
    "### 1.What is a RESTful API\n",
    "A RESTful API (Representational State Transfer API) is a type of web API that adheres to the principles and constraints of the REST architectural style, which was introduced by Roy Fielding in his doctoral dissertation in 2000. It provides a standardized way for systems, particularly web-based applications, to communicate and interact over the HTTP protocol.\n",
    "\n",
    "In a RESTful system, all data and functionality are treated as resources, which are accessed through unique URIs (Uniform Resource Identifiers). Each resource can be manipulated using standard HTTP methods such as:\n",
    "\n",
    "GET to retrieve data,\n",
    "\n",
    "POST to create new resources,\n",
    "\n",
    "PUT to update/replace existing resources,\n",
    "\n",
    "PATCH to partially update resources, and\n",
    "\n",
    "DELETE to remove them."
   ]
  },
  {
   "cell_type": "markdown",
   "id": "cfbe1f43-b7bf-4f13-aba8-58ddd3fd4837",
   "metadata": {},
   "source": [
    "### 2.Explain the concept of API specification\n",
    "An API specification is a detailed and formal blueprint or contract that defines how clients can interact with an API. It describes what the API does, how it behaves, what endpoints are available, what inputs are expected, and what outputs will be returned.\n",
    "\n",
    " ##### Key Concepts of API Specification:\n",
    "1. Definition of Endpoints:\n",
    "\n",
    "2. HTTP Methods\n",
    "\n",
    "3. Request Parameters:\n",
    "\n",
    "4. Request Body Schema:\n",
    "\n",
    "5. Response Format:\n",
    "\n",
    "\n",
    "\n"
   ]
  },
  {
   "cell_type": "markdown",
   "id": "1acd466c-ca3d-4a66-af5b-ec067d90e69f",
   "metadata": {},
   "source": [
    "### 3.What is Flask, and why is it popular for building APIs\n",
    "Flask is a lightweight and flexible web framework for Python that is widely used for building web applications and APIs. It is based on the Werkzeug WSGI toolkit and Jinja2 template engine.\n",
    "\n",
    "#### Why Flask is Popular for Building APIs\n",
    "1. Minimal and Lightweight:\n",
    "\n",
    "Flask provides just the core functionality, allowing developers to add only what they need using extensions.\n",
    "\n",
    "This \"microframework\" nature makes it perfect for building simple APIs quickly.\n",
    "\n",
    "2. Simplicity and Readability:\n",
    "\n",
    "Flask applications are easy to understand and write. The syntax is clean and intuitive.\n",
    "\n",
    "3. RESTful Request Handling:\n",
    "\n",
    "Flask natively supports routing for different HTTP methods (GET, POST, PUT, DELETE), which are essential for REST APIs.\n",
    "\n",
    "4. Flexible and Extensible:\n",
    "\n",
    "You can easily integrate Flask with other tools and libraries (e.g., Flask-RESTful, Flask-JWT, SQLAlchemy).\n",
    "\n",
    "5. Built-in Development Server:\n",
    "\n",
    "Flask provides a built-in server for testing and development, making it easy to debug.\n",
    "\n",
    "6. Large Community and Documentation:\n",
    "\n",
    "Flask has a strong community and rich documentation, making it easy to find help and learn from examples.\n",
    "\n",
    "7. Compatible with WSGI and ASGI:\n",
    "\n",
    "Flask apps can run on any WSGI-compatible web server (like Gunicorn), and new tools like Quart bring ASGI support to Flask-like APIs.\n",
    "\n"
   ]
  },
  {
   "cell_type": "markdown",
   "id": "531a3bac-5a41-4e0a-9efa-2928f4e596af",
   "metadata": {},
   "source": [
    "### 4.What is routing in Flask\n",
    "Routing in Flask refers to mapping URLs (web addresses) to specific functions in your Python code. These functions are called view functions, and they return the response (like a web page or JSON data) that should be sent to the user when that route is accessed.\n",
    "\n"
   ]
  },
  {
   "cell_type": "markdown",
   "id": "5bbb0cb7-9f81-47c6-b9fc-5abb7bd416f1",
   "metadata": {},
   "source": [
    "### 5.How do you create a simple Flask application\n",
    "Creating a basic Flask app involves just a few steps. Below is a minimal, complete example.\n",
    "which is given below:-\n"
   ]
  },
  {
   "cell_type": "raw",
   "id": "fc7e8c80-1e59-4cbc-bc74-42d1a124c241",
   "metadata": {},
   "source": [
    "# basic flask app\n",
    "\n",
    "from flask import Flask\n",
    "\n",
    "# Create the Flask app\n",
    "app = Flask(__name__)\n",
    "\n",
    "# Define a route\n",
    "@app.route('/')\n",
    "def home():\n",
    "    return 'Hello, Flask!'\n",
    "\n",
    "# Run the app\n",
    "if __name__ == '__main__':\n",
    "    app.run(debug=True)\n"
   ]
  },
  {
   "cell_type": "markdown",
   "id": "f6b48f5a-0fea-4f61-b3ac-22cd944f25c9",
   "metadata": {},
   "source": [
    "### 6.What are HTTP methods used in RESTful APIs\n",
    "In RESTful APIs, HTTP methods define the type of operation you want to perform on a resource. Each method corresponds to a CRUD operation:\n",
    "\n",
    "| HTTP Method | CRUD Operation | Description                         |\n",
    "| ----------- | -------------- | ----------------------------------- |\n",
    "| **GET**     | Read           | Retrieve data from the server       |\n",
    "| **POST**    | Create         | Send new data to the server         |\n",
    "| **PUT**     | Update         | Replace existing data on the server |\n",
    "| **PATCH**   | Partial Update | Modify part of an existing resource |\n",
    "| **DELETE**  | Delete         | Remove data from the server         |\n"
   ]
  },
  {
   "cell_type": "markdown",
   "id": "4cef69d0-352c-4ba5-9fe0-117ece9dffa3",
   "metadata": {},
   "source": [
    "### 7.What is the purpose of the @app.route() decorator in Flask\n",
    "The @app.route() decorator in Flask is used to bind a URL path to a specific function — called a view function. It tells Flask which function should run when a specific URL is requested by the client (browser or API call).\n"
   ]
  },
  {
   "cell_type": "markdown",
   "id": "077abf45-4ecf-4c8b-b3aa-f0eb5a3762a8",
   "metadata": {},
   "source": [
    "### 8.What is the difference between GET and POST HTTP methods\n",
    "Difference is given below:-\n",
    "\n",
    "| Feature           | **GET**                                 | **POST**                                      |\n",
    "| ----------------- | --------------------------------------- | --------------------------------------------- |\n",
    "| **Purpose**       | Retrieve data from the server           | Submit data to the server                     |\n",
    "| **Data Location** | Sent in the **URL** (query string)      | Sent in the **request body**                  |\n",
    "| **Visibility**    | Data is visible in the URL              | Data is **not visible** in the URL            |\n",
    "| **Bookmarkable**  | Yes                                     | No                                            |\n",
    "| **Idempotent**    | Yes (doesn’t change server state)       | No (usually changes server state)             |\n",
    "| **Caching**       | Can be cached                           | Usually not cached                            |\n",
    "| **Security**      | Less secure (data in URL can be logged) | More secure (especially when used with HTTPS) |\n",
    "| **Use Case**      | Reading data (e.g., view user profile)  | Creating/Updating data (e.g., login form)     |\n"
   ]
  },
  {
   "cell_type": "markdown",
   "id": "93b927ac-21cb-44e6-88be-c339ca083f88",
   "metadata": {},
   "source": [
    "### 9.How do you handle errors in Flask APIs\n",
    "In Flask, you can handle errors using:\n",
    "\n",
    "1. Built-in error handlers (@app.errorhandler)\n",
    "\n",
    "2. Custom error responses (manual handling)\n",
    "\n",
    "3. Flask abort() function"
   ]
  },
  {
   "cell_type": "markdown",
   "id": "ef36ce01-adb1-4315-9af2-d5b3b01a289f",
   "metadata": {},
   "source": [
    "### 10.How do you connect Flask to a SQL database\n",
    "To connect Flask to a SQL database (like SQLite, MySQL, or PostgreSQL), the most common and powerful approach is using SQLAlchemy, Flask’s ORM (Object Relational Mapper).\n",
    "\n",
    "| Step | Action                                |\n",
    "| ---- | ------------------------------------- |\n",
    "| 1    | Install `Flask-SQLAlchemy`            |\n",
    "| 2    | Configure `SQLALCHEMY_DATABASE_URI`   |\n",
    "| 3    | Define models using classes           |\n",
    "| 4    | Create tables with `db.create_all()`  |\n",
    "| 5    | Use `session.add()`, `query` for data |\n"
   ]
  },
  {
   "cell_type": "markdown",
   "id": "d959cf35-bf20-439b-b239-0fd138312486",
   "metadata": {},
   "source": [
    "### 11.What is the role of Flask-SQLAlchemy\n",
    "Flask-SQLAlchemy is an Object Relational Mapper (ORM) extension for Flask. It simplifies the process of connecting your Flask app to an SQL database and lets you interact with the database using Python classes and objects instead of writing raw SQL queries.\n",
    "\n",
    "\n",
    "| Feature                             | Description                                                                 |\n",
    "| ----------------------------------- | --------------------------------------------------------------------------- |\n",
    "| **Database Connection**             | Manages connection to databases like SQLite, MySQL, PostgreSQL, etc.        |\n",
    "| **ORM (Object Relational Mapping)** | Maps Python classes (models) to database tables                             |\n",
    "| **Query Abstraction**               | Lets you query the database using Python instead of SQL                     |\n",
    "| **Schema Management**               | Helps create, modify, and drop tables using `db.create_all()`               |\n",
    "| **Session Management**              | Manages transactions (add, update, delete, commit)                          |\n",
    "| **Integration with Flask**          | Seamlessly integrates SQLAlchemy into Flask’s app context and configuration |\n"
   ]
  },
  {
   "cell_type": "markdown",
   "id": "b6812038-a662-44ed-84a9-f5fa1e4b04fd",
   "metadata": {},
   "source": [
    "### 12.What are Flask blueprints, and how are they useful\n",
    "Flask Blueprints are a way to organize a Flask application into modular components. Think of a blueprint as a mini Flask application with its own routes, templates, static files, and logic — which can later be registered on the main app."
   ]
  },
  {
   "cell_type": "markdown",
   "id": "1aabd505-8508-40df-b000-c6790f234e59",
   "metadata": {},
   "source": [
    "### 13.What is the purpose of Flask's request object\n",
    "The request object in Flask is used to access data sent by the client (browser, API call, etc.) to your Flask application. It is part of Flask’s flask module and represents the incoming HTTP request.\n",
    "\n",
    "\n",
    "\n",
    "\n",
    "\n",
    "| Purpose                    | Code Example                        | Description                           |\n",
    "| -------------------------- | ----------------------------------- | ------------------------------------- |\n",
    "| Get query parameters (GET) | `request.args.get('name')`          | Gets value from URL like `/?name=abc` |\n",
    "| Get form data (POST)       | `request.form['username']`          | Retrieves data submitted from a form  |\n",
    "| Get JSON data              | `request.get_json()`                | Parses JSON from request body         |\n",
    "| Get HTTP method used       | `request.method`                    | Returns `GET`, `POST`, etc.           |\n",
    "| Access request headers     | `request.headers['User-Agent']`     | Gets headers like browser info        |\n",
    "| Access uploaded files      | `request.files['file']`             | Handles file uploads                  |\n",
    "| Access raw body data       | `request.data`                      | Gets raw request body                 |\n",
    "| Access cookies             | `request.cookies.get('session_id')` | Reads cookies                         |\n"
   ]
  },
  {
   "cell_type": "markdown",
   "id": "1caaa1fa-df5d-4b41-b4e6-d41e3d82919d",
   "metadata": {},
   "source": [
    "### 14.How do you create a RESTful API endpoint using Flask\n",
    "A RESTful API endpoint in Flask is created by defining a route (@app.route) that handles a specific HTTP method (GET, POST, PUT, DELETE) and returns data in JSON format.\n",
    "\n",
    "To create a RESTful API in Flask:\n",
    "\n",
    "1. Use @app.route() to define endpoints.\n",
    "\n",
    "2. Handle HTTP methods: GET, POST, PUT, DELETE.\n",
    "\n",
    "3. Return responses with jsonify().\n",
    "\n",
    "4. Use request.get_json() to receive input data."
   ]
  },
  {
   "cell_type": "markdown",
   "id": "4960ba16-00ef-4a1d-9db0-9b8e81d740d6",
   "metadata": {},
   "source": [
    "### 15.What is the purpose of Flask's jsonify() function\n",
    "The jsonify() function in Flask is used to convert Python data structures (like dictionaries and lists) into a JSON response. It also sets the appropriate MIME type (application/json) and status code for HTTP responses.\n",
    "\n"
   ]
  },
  {
   "cell_type": "markdown",
   "id": "ba102fa8-34a3-47e2-a50a-03cc7eee5424",
   "metadata": {},
   "source": [
    "### 16.Explain Flask’s url_for() function\n",
    "The url_for() function in Flask is used to dynamically build URLs for your application by referring to the name of the view function instead of hardcoding the URL path.\n",
    "\n",
    "| Benefit                    | Description                                                       |\n",
    "| -------------------------- | ----------------------------------------------------------------- |\n",
    "| **Avoids Hardcoding URLs** | If a route changes, you don’t need to update all URL strings      |\n",
    "| **Dynamic URL Generation** | Automatically inserts path parameters and query parameters        |\n",
    "| **Template Integration**   | Can be used inside HTML/Jinja templates (`{{ url_for('home') }}`) |\n"
   ]
  },
  {
   "cell_type": "markdown",
   "id": "7fb8f158-0182-4dcc-a091-5db3ff482930",
   "metadata": {},
   "source": [
    "### 17.How does Flask handle static files (CSS, JavaScript, etc.)\n",
    "Flask serves static files like CSS, JavaScript, images, and other assets from a special directory named static/ by default.\n",
    "\n",
    "folder structure is given below:-"
   ]
  },
  {
   "cell_type": "raw",
   "id": "68c3f4fd-a475-4a94-b843-e8fdb21c5455",
   "metadata": {},
   "source": [
    "project/\n",
    "│\n",
    "├── app.py\n",
    "├── static/\n",
    "│   ├── style.css\n",
    "│   └── script.js\n",
    "└── templates/\n",
    "    └── index.html\n"
   ]
  },
  {
   "cell_type": "markdown",
   "id": "6b5384aa-1adc-4c53-80b3-64195b544a14",
   "metadata": {},
   "source": [
    "### 18.What is an API specification, and how does it help in building a Flask API\n",
    "An API specification is a detailed, structured description of how an API works — including the endpoints, methods, inputs, outputs, data types, authentication, and error responses.\n",
    "\n",
    "It acts like a blueprint or contract between the API provider and the consumer.\n",
    "\n",
    "\n",
    "| Benefit                  | How It Helps in Flask API Development                          |\n",
    "| ------------------------ | -------------------------------------------------------------- |\n",
    "| **Clarity**              | Developers know exactly what to build or consume               |\n",
    "| **Consistency**          | Ensures all endpoints follow uniform standards                 |\n",
    "| **Client Communication** | Frontend teams or API users can understand how to use the API  |\n",
    "| **Auto-Documentation**   | Tools like Swagger/OpenAPI generate docs from specs            |\n",
    "| **Validation**           | Helps with input validation and response structure enforcement |\n",
    "| **Testing & Mocking**    | Test tools can use specs to simulate endpoints before coding   |\n",
    "\n"
   ]
  },
  {
   "cell_type": "markdown",
   "id": "97e706e0-b881-4eba-92e5-5f662bc46fc3",
   "metadata": {},
   "source": [
    "### 19.What are HTTP status codes, and why are they important in a Flask API\n",
    "\n",
    "HTTP status codes are 3-digit numbers returned by a web server (like Flask) to indicate the result of a client's request. They help the client understand what happened — whether the request was successful, failed, or required additional action.\n",
    "\n",
    "\n",
    "| Purpose                   | Description                                                      |\n",
    "| ------------------------- | ---------------------------------------------------------------- |\n",
    "| **Communicate Outcome**   | Tells the client if the request succeeded, failed, or had issues |\n",
    "| **Enable Error Handling** | Allows frontend or API users to handle errors appropriately      |\n",
    "| **RESTful Compliance**    | Essential for building RESTful APIs that follow web standards    |\n",
    "| **Improve Debugging**     | Helps developers and tools understand what went wrong            |\n",
    "\n",
    "\n",
    "Common HTTP Status Codes (with Flask Examples)\n",
    "\n",
    "\n",
    "| Code | Meaning               | Flask Example                                      |\n",
    "| ---- | --------------------- | -------------------------------------------------- |\n",
    "| 200  | OK (Success)          | `return jsonify(data), 200`                        |\n",
    "| 201  | Created               | `return jsonify(new_item), 201`                    |\n",
    "| 204  | No Content            | `return '', 204`                                   |\n",
    "| 400  | Bad Request           | `return jsonify({'error': 'Bad input'}), 400`      |\n",
    "| 401  | Unauthorized          | `return jsonify({'error': 'Unauthorized'}), 401`   |\n",
    "| 403  | Forbidden             | `return jsonify({'error': 'Forbidden'}), 403`      |\n",
    "| 404  | Not Found             | `return jsonify({'error': 'Not found'}), 404`      |\n",
    "| 409  | Conflict              | `return jsonify({'error': 'Already exists'}), 409` |\n",
    "| 500  | Internal Server Error | `return jsonify({'error': 'Server error'}), 500`   |\n",
    "\n",
    "\n"
   ]
  },
  {
   "cell_type": "markdown",
   "id": "62741119-332b-4b0f-80e5-89964568bac0",
   "metadata": {},
   "source": [
    "### 20.How do you handle POST requests in Flask\n",
    "A POST request is used when the client wants to send data to the server, such as submitting a form or creating a new resource. In Flask, you handle POST requests using:\n",
    "\n",
    "@app.route(..., methods=['POST'])\n",
    "\n",
    "request.form for form data\n",
    "\n",
    "request.get_json() for JSON data"
   ]
  },
  {
   "cell_type": "markdown",
   "id": "2dc1318b-d9aa-4946-b2b2-950b3ad5f040",
   "metadata": {},
   "source": [
    "### 21.How would you secure a Flask API\n",
    "Securing a Flask API is critical to protect it from unauthorized access, data leaks, attacks, and abuse. Here's a breakdown of common methods to secure a Flask API.\n",
    "\n",
    "1. Use HTTPS (TLS/SSL)\n",
    "Always run your API over HTTPS, especially in production.\n",
    "\n",
    "It encrypts data in transit and prevents man-in-the-middle attacks.\n",
    "\n",
    "2. Authentication\n",
    "Control who can access the API.\n",
    "\n",
    "Options:\n",
    "Method\tDescription\n",
    "API Keys\tSend a key in the request header; check it in your code\n",
    "Token-Based (JWT)\tClients log in → receive a JSON Web Token → send it with requests\n",
    "OAuth 2.0\tStandard for third-party authentication (e.g., Google, GitHub)\n",
    "\n",
    "3. Authorization\n",
    "After authentication, ensure the user has permission for the requested action (e.g., admin vs. regular user).\n",
    "\n",
    "4. Input Validation & Sanitization\n",
    "Validate incoming data to avoid SQL injection or malformed requests.\n",
    "\n",
    "5. Rate Limiting\n",
    "Prevent abuse (e.g., DoS attacks) by limiting how many requests a client can make.\n",
    "\n",
    "6. CORS Protection\n",
    "Control which domains can access your API."
   ]
  },
  {
   "cell_type": "markdown",
   "id": "f0f6bd87-2c70-40ed-8425-7c93dfc3b4a2",
   "metadata": {},
   "source": [
    "### 22.What is the significance of the Flask-RESTful extension\n",
    "Flask-RESTful is an extension for Flask that simplifies the development of RESTful APIs. It provides a higher-level, more structured way to define resources and HTTP methods, helping developers build clean and scalable APIs faster.\n",
    "\n",
    "| Feature                      | Benefit                                                                |\n",
    "| ---------------------------- | ---------------------------------------------------------------------- |\n",
    "| **Class-based views**        | Define API endpoints using Python classes (`Resource`)                 |\n",
    "| **Method-specific handling** | Each HTTP method (GET, POST, etc.) is a method of the class            |\n",
    "| **Request parsing**          | Built-in `reqparse` helps validate and parse inputs                    |\n",
    "| **Error handling**           | Simplifies response codes and custom error messages                    |\n",
    "| **Cleaner routing**          | Use `api.add_resource()` instead of multiple `@app.route()` decorators |\n"
   ]
  },
  {
   "cell_type": "markdown",
   "id": "a0a82288-9e15-45af-b503-4cc212aeef0e",
   "metadata": {},
   "source": [
    "### 23.What is the role of Flask’s session object?\n",
    "The session object in Flask is used to store data across multiple requests for the same client (like a logged-in user). It acts like a temporary storage (per user) that persists between requests using secure cookies.\n",
    "\n",
    "\n",
    "Why Use session? \n",
    "\n",
    "\n",
    "| Purpose                  | Description                                              |\n",
    "| ------------------------ | -------------------------------------------------------- |\n",
    "| **User login state**     | Track if a user is logged in or not                      |\n",
    "| **Store temporary data** | Store small, secure info like username, role, cart items |\n",
    "| **Per-user storage**     | Each user's session data is isolated from others         |\n",
    "| **Secure**               | Signed with a secret key to prevent tampering            |\n"
   ]
  },
  {
   "cell_type": "markdown",
   "id": "0a191d57-a16b-44e1-82d1-9f315ff495fc",
   "metadata": {},
   "source": [
    "# practical questions"
   ]
  },
  {
   "cell_type": "code",
   "execution_count": 3,
   "id": "95a74a68-0fd0-44be-9d0c-35293301e878",
   "metadata": {},
   "outputs": [
    {
     "name": "stdout",
     "output_type": "stream",
     "text": [
      " * Serving Flask app '__main__'\n",
      " * Debug mode: on\n"
     ]
    },
    {
     "name": "stderr",
     "output_type": "stream",
     "text": [
      "WARNING: This is a development server. Do not use it in a production deployment. Use a production WSGI server instead.\n",
      " * Running on http://127.0.0.1:5000\n",
      "Press CTRL+C to quit\n",
      " * Restarting with watchdog (windowsapi)\n"
     ]
    },
    {
     "ename": "SystemExit",
     "evalue": "1",
     "output_type": "error",
     "traceback": [
      "An exception has occurred, use %tb to see the full traceback.\n",
      "\u001b[1;31mSystemExit\u001b[0m\u001b[1;31m:\u001b[0m 1\n"
     ]
    }
   ],
   "source": [
    "# 1.How do you create a basic Flask application\n",
    "\n",
    "from flask import Flask\n",
    "\n",
    "# Create Flask app instance\n",
    "app = Flask(__name__)\n",
    "\n",
    "# Define a route\n",
    "@app.route('/')\n",
    "def home():\n",
    "    return 'Hello, Flask!'\n",
    "\n",
    "# Run the app\n",
    "if __name__ == '__main__':\n",
    "    app.run(debug=True)\n"
   ]
  },
  {
   "cell_type": "markdown",
   "id": "3b6e6e02-7165-41e1-acad-6a6d1c659967",
   "metadata": {},
   "source": [
    "###  2.How do you serve static files like images or CSS in Flask\n"
   ]
  },
  {
   "cell_type": "raw",
   "id": "117c24be-d4b1-4564-9b8f-0831f491dab4",
   "metadata": {},
   "source": [
    "# 2.How do you serve static files like images or CSS in Flask\n",
    "\n",
    "##folder structure\n",
    "project/\n",
    "├── app.py\n",
    "├── static/\n",
    "│   ├── style.css\n",
    "│   ├── script.js\n",
    "│   └── logo.png\n",
    "└── templates/\n",
    "    └── index.html\n"
   ]
  },
  {
   "cell_type": "raw",
   "id": "a1c1ab4a-5e02-4ec6-86b1-9bbaa3b9c2bf",
   "metadata": {},
   "source": [
    "### static pages\n",
    "\n",
    "<!-- templates/index.html -->\n",
    "<!DOCTYPE html>\n",
    "<html>\n",
    "<head>\n",
    "    <title>Static File Example</title>\n",
    "    <link rel=\"stylesheet\" href=\"{{ url_for('static', filename='style.css') }}\">\n",
    "</head>\n",
    "<body>\n",
    "    <h1>Hello from Flask!</h1>\n",
    "    <img src=\"{{ url_for('static', filename='logo.png') }}\" alt=\"Logo\">\n",
    "    <script src=\"{{ url_for('static', filename='script.js') }}\"></script>\n",
    "</body>\n",
    "</html>\n"
   ]
  },
  {
   "cell_type": "raw",
   "id": "5348be2d-fde1-42e8-9705-25d5bd00fda2",
   "metadata": {},
   "source": [
    "## app\n",
    "\n",
    "from flask import Flask, render_template\n",
    "\n",
    "app = Flask(__name__)\n",
    "\n",
    "@app.route('/')\n",
    "def index():\n",
    "    return render_template('index.html')\n",
    "\n",
    "if __name__ == '__main__':\n",
    "    app.run(debug=True)\n"
   ]
  },
  {
   "cell_type": "markdown",
   "id": "d2356d4b-79b3-4b47-b6db-5a93a31e8a82",
   "metadata": {},
   "source": [
    "###  3. How do you define different routes with different HTTP methods in Flask\n"
   ]
  },
  {
   "cell_type": "raw",
   "id": "648c28e2-40f8-4525-88ec-96b4afe7ebca",
   "metadata": {},
   "source": [
    "# 3. How do you define different routes with different HTTP methods in Flask\n",
    "\n",
    "from flask import Flask, request, jsonify\n",
    "\n",
    "app = Flask(__name__)\n",
    "\n",
    "# GET request\n",
    "@app.route('/hello', methods=['GET'])\n",
    "def hello():\n",
    "    return \"Hello, this is a GET request!\"\n",
    "\n",
    "# POST request\n",
    "@app.route('/submit', methods=['POST'])\n",
    "def submit():\n",
    "    data = request.get_json()\n",
    "    return jsonify({\"message\": \"Data received\", \"data\": data})\n",
    "\n",
    "# PUT request\n",
    "@app.route('/update', methods=['PUT'])\n",
    "def update():\n",
    "    data = request.get_json()\n",
    "    return jsonify({\"message\": \"Data updated\", \"updated_data\": data})\n",
    "\n",
    "# DELETE request\n",
    "@app.route('/delete/<int:item_id>', methods=['DELETE'])\n",
    "def delete(item_id):\n",
    "    return jsonify({\"message\": f\"Item {item_id} deleted\"})\n"
   ]
  },
  {
   "cell_type": "markdown",
   "id": "2d9373c7-44a8-4054-b087-5ca81813a42c",
   "metadata": {},
   "source": [
    "### 4.How do you render HTML templates in Flask\n"
   ]
  },
  {
   "cell_type": "raw",
   "id": "d146e0e9-c0e3-41e3-8dc1-6871a0109a3c",
   "metadata": {},
   "source": [
    "from flask import Flask, render_template\n",
    "\n",
    "app = Flask(__name__)\n",
    "\n",
    "@app.route('/')\n",
    "def home():\n",
    "    return render_template('index.html', username=\"Kundan\")\n",
    "\n",
    "@app.route('/about')\n",
    "def about():\n",
    "    return render_template('about.html')\n",
    "\n",
    "if __name__ == '__main__':\n",
    "    app.run(debug=True)\n"
   ]
  },
  {
   "cell_type": "markdown",
   "id": "1784c84b-6b48-43eb-b476-6b46da7c2634",
   "metadata": {},
   "source": [
    "### 5. How can you generate URLs for routes in Flask using url_for\n",
    "\n"
   ]
  },
  {
   "cell_type": "raw",
   "id": "3a9f0e8f-279e-4223-9800-c11a2e7d007b",
   "metadata": {},
   "source": [
    "url_for('function_name', **params)\n"
   ]
  },
  {
   "cell_type": "raw",
   "id": "b7c6b458-dfd2-4928-998c-89b37840534e",
   "metadata": {},
   "source": [
    "from flask import Flask, url_for\n",
    "\n",
    "app = Flask(__name__)\n",
    "\n",
    "@app.route('/hello')\n",
    "def hello():\n",
    "    return 'Hello!'\n",
    "\n",
    "@app.route('/')\n",
    "def home():\n",
    "    return f'Go to Hello: {url_for(\"hello\")}'\n"
   ]
  },
  {
   "cell_type": "markdown",
   "id": "9e3de518-f389-4774-8959-30ac1edd17d1",
   "metadata": {},
   "source": [
    "### 6.How do you handle forms in Flask"
   ]
  },
  {
   "cell_type": "raw",
   "id": "ce7f53a4-492d-4f26-ae2c-80b6244df655",
   "metadata": {},
   "source": [
    "from flask import Flask, request, render_template\n",
    "\n",
    "app = Flask(__name__)\n",
    "\n",
    "@app.route('/')\n",
    "def form():\n",
    "    return render_template('form.html')\n",
    "\n",
    "@app.route('/submit', methods=['POST'])\n",
    "def submit():\n",
    "    username = request.form['username']  # Get form input\n",
    "    return f'Hello, {username}!'\n"
   ]
  },
  {
   "cell_type": "markdown",
   "id": "00a43352-2549-4960-9b57-7eec8f884e7b",
   "metadata": {},
   "source": [
    "### 7.How can you validate form data in Flask\n"
   ]
  },
  {
   "cell_type": "raw",
   "id": "e562a5e1-3690-4b75-bd00-bd07fea08b73",
   "metadata": {},
   "source": [
    "from flask import Flask, request, render_template\n",
    "\n",
    "app = Flask(__name__)\n",
    "\n",
    "@app.route('/form')\n",
    "def form():\n",
    "    return render_template('form.html')\n",
    "\n",
    "@app.route('/submit', methods=['POST'])\n",
    "def submit():\n",
    "    name = request.form.get('name')\n",
    "    email = request.form.get('email')\n",
    "\n",
    "    # Manual validation\n",
    "    errors = []\n",
    "    if not name:\n",
    "        errors.append(\"Name is required.\")\n",
    "    if not email or \"@\" not in email:\n",
    "        errors.append(\"Valid email is required.\")\n",
    "\n",
    "    if errors:\n",
    "        return \"<br>\".join(errors), 400\n",
    "\n",
    "    return f\"Hello {name}, your email is {email}\"\n"
   ]
  },
  {
   "cell_type": "markdown",
   "id": "5cf395d7-171f-40a7-b793-689c0811dd61",
   "metadata": {},
   "source": [
    "### 8.How do you manage sessions in Flask\n"
   ]
  },
  {
   "cell_type": "raw",
   "id": "9a2f57c1-8795-4b51-8844-4d0b9b17896d",
   "metadata": {},
   "source": [
    "from flask import Flask, session, redirect, url_for, request\n",
    "\n",
    "app = Flask(__name__)\n",
    "app.secret_key = 'supersecretkey'  # Required for session security\n",
    "\n",
    "\n",
    "@app.route('/login', methods=['POST'])\n",
    "def login():\n",
    "    session['username'] = request.form['username']\n",
    "    return redirect(url_for('profile'))\n"
   ]
  },
  {
   "cell_type": "markdown",
   "id": "08ef373d-b568-44a4-9c11-d40ab4465922",
   "metadata": {},
   "source": [
    "### 9.How do you redirect to a different route in Flask"
   ]
  },
  {
   "cell_type": "raw",
   "id": "ac4c66f8-2c88-4aa7-b2a9-dd5097b55af0",
   "metadata": {},
   "source": [
    "from flask import Flask, redirect, url_for\n",
    "\n",
    "app = Flask(__name__)\n",
    "\n",
    "@app.route('/')\n",
    "def home():\n",
    "    return 'Welcome to the homepage!'\n",
    "\n",
    "@app.route('/login')\n",
    "def login():\n",
    "    # Redirect to the dashboard after login\n",
    "    return redirect(url_for('dashboard'))\n",
    "\n",
    "@app.route('/dashboard')\n",
    "def dashboard():\n",
    "    return 'Welcome to your dashboard!'\n"
   ]
  },
  {
   "cell_type": "markdown",
   "id": "59dbfa74-155a-48eb-911c-efd8bce1e63a",
   "metadata": {},
   "source": [
    "### 10.How do you handle errors in Flask (e.g., 404)"
   ]
  },
  {
   "cell_type": "raw",
   "id": "b15c1c2c-ee6c-4b62-bc6b-c774ffa33bd2",
   "metadata": {},
   "source": [
    "from flask import Flask, render_template\n",
    "\n",
    "app = Flask(__name__)\n",
    "\n",
    "@app.route('/')\n",
    "def home():\n",
    "    return \"Welcome to the homepage!\"\n",
    "\n",
    "# Handle 404 Not Found\n",
    "@app.errorhandler(404)\n",
    "def not_found_error(error):\n",
    "    return render_template('404.html'), 404\n",
    "\n",
    "# Handle 500 Internal Server Error\n",
    "@app.errorhandler(500)\n",
    "def internal_error(error):\n",
    "    return render_template('500.html'), 500\n"
   ]
  },
  {
   "cell_type": "markdown",
   "id": "bb3d499d-cd3b-44ef-bc7d-8b2137e22b21",
   "metadata": {},
   "source": [
    "### 11.How do you structure a Flask app using Blueprints\n",
    "\n"
   ]
  },
  {
   "cell_type": "raw",
   "id": "f556216f-9078-4a45-9967-4d0af9cedd75",
   "metadata": {},
   "source": [
    "#### folder structure\n",
    "myapp/\n",
    "├── app.py\n",
    "├── home/\n",
    "│   ├── __init__.py\n",
    "│   └── routes.py\n",
    "└── templates/\n",
    "    └── home.html"
   ]
  },
  {
   "cell_type": "raw",
   "id": "760dfe77-cfec-48d0-a043-bc5164ce607d",
   "metadata": {},
   "source": [
    "## 1. home/routes.py: Define Blueprint\n",
    "\n",
    "from flask import Blueprint, render_template\n",
    "\n",
    "home_bp = Blueprint('home', __name__, template_folder='../templates')\n",
    "\n",
    "@home_bp.route('/')\n",
    "def homepage():\n",
    "    return render_template('home.html')\n"
   ]
  },
  {
   "cell_type": "markdown",
   "id": "b1116a68-b894-48e9-9c70-b05928b5e1ce",
   "metadata": {},
   "source": [
    "### 12.How do you define a custom Jinja filter in Flask\n"
   ]
  },
  {
   "cell_type": "raw",
   "id": "7d3003ef-b1d0-4e57-a1c5-3fc5d5be3e74",
   "metadata": {},
   "source": [
    "## 1. Create Your Flask App\n",
    "\n",
    "from flask import Flask, render_template\n",
    "\n",
    "app = Flask(__name__)"
   ]
  },
  {
   "cell_type": "raw",
   "id": "35413f57-4489-489a-b8a2-b984213f4daa",
   "metadata": {},
   "source": [
    "# Define a Custom Filter Function\n",
    "\n",
    "def reverse_string(s):\n",
    "    return s[::-1]"
   ]
  },
  {
   "cell_type": "raw",
   "id": "eb476184-0ac0-4440-980c-40b791dae52b",
   "metadata": {},
   "source": [
    "# Register the Filter\n",
    "\n",
    "app.jinja_env.filters['reverse'] = reverse_string"
   ]
  },
  {
   "cell_type": "raw",
   "id": "75b855d3-28d5-4f61-9146-127336361a65",
   "metadata": {},
   "source": [
    "## Use the Filter in a Template\n",
    "\n",
    "In Python (e.g., app.py):\n",
    "\n",
    "@app.route('/')\n",
    "def home():\n",
    "    return render_template('index.html', name=\"Kundan\")"
   ]
  },
  {
   "cell_type": "markdown",
   "id": "32306ab9-a0c9-4215-a68b-5ecf37722920",
   "metadata": {},
   "source": [
    "### 13.How can you redirect with query parameters in Flask"
   ]
  },
  {
   "cell_type": "raw",
   "id": "78c3f77c-bbeb-49f7-88e2-50329f6401eb",
   "metadata": {},
   "source": [
    "from flask import Flask, redirect, url_for, request\n",
    "\n",
    "app = Flask(__name__)\n",
    "\n",
    "@app.route('/')\n",
    "def home():\n",
    "    # Redirect with query parameters\n",
    "    return redirect(url_for('greet', name='Kundan', age=22))\n",
    "\n",
    "@app.route('/greet')\n",
    "def greet():\n",
    "    name = request.args.get('name')\n",
    "    age = request.args.get('age')\n",
    "    return f\"Hello {name}, age {age}!\"\n"
   ]
  },
  {
   "cell_type": "markdown",
   "id": "8a206431-d4bb-4741-8fe0-dccd7580b95e",
   "metadata": {},
   "source": [
    "### 14. How do you return JSON responses in Flask"
   ]
  },
  {
   "cell_type": "raw",
   "id": "130b5c6a-6ea9-4634-9d39-c8f884ad95a9",
   "metadata": {},
   "source": [
    "from flask import Flask, jsonify\n",
    "\n",
    "app = Flask(__name__)\n",
    "\n",
    "@app.route('/api/user')\n",
    "def get_user():\n",
    "    user_data = {\n",
    "        \"name\": \"Kundan\",\n",
    "        \"age\": 22,\n",
    "        \"email\": \"kundan@example.com\"\n",
    "    }\n",
    "    return jsonify(user_data)\n"
   ]
  },
  {
   "cell_type": "markdown",
   "id": "71fa5797-aaf1-4d7a-ba15-70661ecd587d",
   "metadata": {},
   "source": [
    "### 15.How do you capture URL parameters in Flask?"
   ]
  },
  {
   "cell_type": "raw",
   "id": "f65b30b0-1fb0-471f-a5b0-faadc2713d5c",
   "metadata": {},
   "source": [
    "@app.route('/user/<username>')\n",
    "def show_user(username):\n",
    "    return f\"Hello, {username}!\"\n"
   ]
  }
 ],
 "metadata": {
  "kernelspec": {
   "display_name": "Python 3 (ipykernel)",
   "language": "python",
   "name": "python3"
  },
  "language_info": {
   "codemirror_mode": {
    "name": "ipython",
    "version": 3
   },
   "file_extension": ".py",
   "mimetype": "text/x-python",
   "name": "python",
   "nbconvert_exporter": "python",
   "pygments_lexer": "ipython3",
   "version": "3.12.6"
  }
 },
 "nbformat": 4,
 "nbformat_minor": 5
}
